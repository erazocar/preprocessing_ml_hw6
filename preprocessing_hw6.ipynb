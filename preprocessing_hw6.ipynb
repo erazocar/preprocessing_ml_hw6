{
  "nbformat": 4,
  "nbformat_minor": 0,
  "metadata": {
    "colab": {
      "name": "preprocessing_hw6.ipynb",
      "provenance": [],
      "collapsed_sections": [],
      "mount_file_id": "1boRrcYT4pnnIRpE_ClLIT4B34XnYNgxS",
      "authorship_tag": "ABX9TyPWUUwgfL3ClEPN9AhwtFHe",
      "include_colab_link": true
    },
    "kernelspec": {
      "display_name": "Python 3",
      "name": "python3"
    },
    "language_info": {
      "name": "python"
    }
  },
  "cells": [
    {
      "cell_type": "markdown",
      "metadata": {
        "id": "view-in-github",
        "colab_type": "text"
      },
      "source": [
        "<a href=\"https://colab.research.google.com/github/erazocar/preprocessing_ml_hw6/blob/main/preprocessing_hw6.ipynb\" target=\"_parent\"><img src=\"https://colab.research.google.com/assets/colab-badge.svg\" alt=\"Open In Colab\"/></a>"
      ]
    },
    {
      "cell_type": "markdown",
      "metadata": {
        "id": "Fmy1FmF5IRf1"
      },
      "source": [
        "# **HW6: Preprocessing**\n",
        "## **Required Libraries**"
      ]
    },
    {
      "cell_type": "code",
      "metadata": {
        "id": "_7TfHsRoMgx_"
      },
      "source": [
        "#if not using google colab version of this, please disregard\n",
        "from google.colab import drive\n",
        "drive.mount('/content/drive')"
      ],
      "execution_count": null,
      "outputs": []
    },
    {
      "cell_type": "code",
      "metadata": {
        "id": "wlp6qApdUDHM"
      },
      "source": [
        "#install scikit plot in colab environment.\n",
        "!pip install scikit-plot"
      ],
      "execution_count": null,
      "outputs": []
    },
    {
      "cell_type": "code",
      "metadata": {
        "id": "AltcjEBB7nvq"
      },
      "source": [
        "#Scientific computing libraries\n",
        "import numpy as np\n",
        "import os\n",
        "import pandas as pd\n",
        "import scipy as sp\n",
        "from scipy import interp\n",
        "\n",
        "#performance control\n",
        "import time\n",
        "\n",
        "#Libraries from Sklearn\n",
        "from sklearn.linear_model import LogisticRegression as LR\n",
        "from sklearn.svm import SVC\n",
        "from sklearn.svm import LinearSVC\n",
        "from sklearn.calibration import CalibratedClassifierCV\n",
        "from sklearn.model_selection import KFold\n",
        "\n",
        "#Scalers\n",
        "from sklearn.pipeline import Pipeline\n",
        "from sklearn.preprocessing import StandardScaler\n",
        "from sklearn.preprocessing import Normalizer\n",
        "from sklearn.preprocessing import MinMaxScaler\n",
        "from sklearn.preprocessing import LabelBinarizer\n",
        "\n",
        "from sklearn.model_selection import cross_val_score\n",
        "from sklearn import  metrics\n",
        "from sklearn.metrics import classification_report\n",
        "from sklearn.metrics import confusion_matrix\n",
        "from  sklearn.metrics import precision_recall_fscore_support\n",
        "from sklearn.metrics import roc_curve, auc\n",
        "\n",
        "from sklearn.datasets import load_svmlight_file\n",
        "\n",
        "import matplotlib.pyplot as plt\n",
        "import scikitplot as skplt\n"
      ],
      "execution_count": null,
      "outputs": []
    },
    {
      "cell_type": "markdown",
      "metadata": {
        "id": "2G5B9FT9h6Lv"
      },
      "source": [
        "## **Function Definition**"
      ]
    },
    {
      "cell_type": "code",
      "metadata": {
        "id": "18KYje0w3atd"
      },
      "source": [
        "#Reader for each file, appended to a list.\n",
        "def reader1(path):\n",
        "  data = []\n",
        "  filenames = os.listdir(path)\n",
        "  for file in filenames:\n",
        "    filepath = path + '/' + file\n",
        "    d = pd.read_csv(filepath, header = None, sep=',')\n",
        "    data.append(d)\n",
        "  return data"
      ],
      "execution_count": null,
      "outputs": []
    },
    {
      "cell_type": "code",
      "metadata": {
        "id": "qjT6KlM3cwZJ"
      },
      "source": [
        "#Reader for each file, appended to a list.\n",
        "def reader2(path):\n",
        "  data = pd.read_csv(path, delim_whitespace=True, header = None)\n",
        "  for i,j in enumerate(data.values):\n",
        "    for k in range(len(j)):\n",
        "      if (isinstance(j[k], str)):\n",
        "        data.loc[i,k] = float(j[k].split(':')[1])\n",
        "  return data"
      ],
      "execution_count": null,
      "outputs": []
    },
    {
      "cell_type": "code",
      "metadata": {
        "id": "rqruTZcNjYVs"
      },
      "source": [
        "#Logisitic regression classifier.\n",
        "def training_LogReg(train_data, train_label, test_data, test_label, c):\n",
        "  start = time.time()\n",
        "  classifier = LR(C = c)\n",
        "  classifier.fit(train_data, np.ravel(train_label))\n",
        "  end = time.time()\n",
        "  pred = classifier.predict(test_data)\n",
        "  acc = classification_report(test_label, pred, digits = 4)\n",
        "\n",
        "  print(acc)\n",
        "  print(\"Time duration for Logistic Regression \" + str(end - start) + \"s\")\n",
        "  return pred"
      ],
      "execution_count": null,
      "outputs": []
    },
    {
      "cell_type": "code",
      "metadata": {
        "id": "lUKmcQg07LKj"
      },
      "source": [
        "#support vector machine classifier.\n",
        "def training_SVM(train_data, train_label, test_data, test_label,kernel_type,c):\n",
        "  start = time.time()\n",
        "  classifier = SVC(C = c, kernel=kernel_type)\n",
        "  classifier.fit(train_data, np.ravel(train_label))\n",
        "  end = time.time()\n",
        "  pred = classifier.predict(test_data)\n",
        "  acc = classification_report(test_label, pred, digits = 4)\n",
        "\n",
        "  print(acc)\n",
        "  print(\"Time duration for \" + kernel_type + \" SVM \" + str(end - start) + \"s\")\n",
        "  return pred"
      ],
      "execution_count": null,
      "outputs": []
    },
    {
      "cell_type": "code",
      "metadata": {
        "id": "kVb4FbAnBHuL"
      },
      "source": [
        "#best c classifier for the SVM\n",
        "def c_selectionSVM(X_train, y_train, cross_val, kernel_type, C):\n",
        "  for c in C:\n",
        "    start3 = time.time()\n",
        "    mod3 = SVC(C = c, kernel= kernel_type)\n",
        "    mod3.fit(X_train, np.ravel(y_train))\n",
        "    results3 = mod3.score(X_train, np.ravel(y_train))\n",
        "    end3 = time.time()\n",
        "\n",
        "    scores3 = cross_val_score(mod3,X_train, np.ravel(y_train), cv = cross_val)\n",
        "    print(\"Accuracy : %.2f%%\" % (results3*100) + f\" for C={c}\")\n",
        "    print(\"Testing error : %.2f%%\" % ((1-results3)*100), end = '\\n')\n",
        "    print(\"Cross validation error: %.2f%%\" % ((1-scores3.mean()) * 100) , end = '\\n')\n",
        "    print(\"Time duration \" + str(end3 - start3) + f\"s for c={c}\")\n",
        "    print(\"\")"
      ],
      "execution_count": null,
      "outputs": []
    },
    {
      "cell_type": "code",
      "metadata": {
        "id": "aPotG1g8X53T"
      },
      "source": [
        "#best c classifier for the Linear SVM\n",
        "def c_selectionLSVM(X_train, y_train, scaler,sc,cross_val, C):\n",
        "  for c in C:\n",
        "    start3 = time.time()\n",
        "    pipe = Pipeline([(scaler, sc), ('svc', LinearSVC(C=c, tol = 0.01, max_iter=1500))])\n",
        "    pipe.fit(X_train, np.ravel(y_train))\n",
        "    results3 = pipe.score(X_train, np.ravel(y_train))\n",
        "    end3 = time.time()\n",
        "\n",
        "    scores3 = cross_val_score(pipe,X_train, np.ravel(y_train), cv = cross_val)\n",
        "    print(\"Accuracy : %.2f%%\" % (results3*100) + f\" for C={c}\")\n",
        "    print(\"Testing error : %.2f%%\" % ((1-results3)*100), end = '\\n')\n",
        "    print(\"Cross validation error: %.2f%%\" % ((1-scores3.mean()) * 100) , end = '\\n')\n",
        "    print(\"Time duration \" + str(end3 - start3) + f\"s for c={c}\")\n",
        "    print(\"\")"
      ],
      "execution_count": null,
      "outputs": []
    },
    {
      "cell_type": "code",
      "metadata": {
        "id": "Z6Z-cbmwgdbC"
      },
      "source": [
        "#best c classifier for the SVM\n",
        "def SVM_pipeliner(X_train, y_train, scaler, sc, c, tolerance):\n",
        "  start = time.time()\n",
        "  svm = LinearSVC(C=c, tol = tolerance)\n",
        "\n",
        "  pipe = Pipeline([(scaler, sc), ('svc', CalibratedClassifierCV(svm))])\n",
        "  pipe.fit(X_train, y_train)\n",
        "  end = time.time()\n",
        "  \n",
        "  #print(acc)\n",
        "  print(\"Time duration for \" + scaler + \" SVM \" + str(end - start) + \"s\")\n",
        "  return pipe"
      ],
      "execution_count": null,
      "outputs": []
    },
    {
      "cell_type": "code",
      "metadata": {
        "id": "y3gMGtw3EiRw"
      },
      "source": [
        "#Implementation from StackOF#39685740 for AUC_ROC scores\n",
        "def class_report(y_true, y_pred, y_score=None, average='micro'):\n",
        "    if y_true.shape != y_pred.shape:\n",
        "        print(\"Error! y_true %s is not the same shape as y_pred %s\" % (\n",
        "              y_true.shape,\n",
        "              y_pred.shape)\n",
        "        )\n",
        "        return\n",
        "\n",
        "    lb = LabelBinarizer()\n",
        "\n",
        "    if len(y_true.shape) == 1:\n",
        "        lb.fit(y_true)\n",
        "\n",
        "    #Value counts of predictions\n",
        "    labels, cnt = np.unique(\n",
        "        y_pred,\n",
        "        return_counts=True)\n",
        "    n_classes = len(labels)\n",
        "    pred_cnt = pd.Series(cnt, index=labels)\n",
        "\n",
        "    metrics_summary = precision_recall_fscore_support(\n",
        "            y_true=y_true,\n",
        "            y_pred=y_pred,\n",
        "            labels=labels)\n",
        "\n",
        "    avg = list(precision_recall_fscore_support(\n",
        "            y_true=y_true, \n",
        "            y_pred=y_pred,\n",
        "            average='weighted'))\n",
        "\n",
        "    metrics_sum_index = ['precision', 'recall', 'f1-score', 'support']\n",
        "    class_report_df = pd.DataFrame(\n",
        "        list(metrics_summary),\n",
        "        index=metrics_sum_index,\n",
        "        columns=labels)\n",
        "\n",
        "    support = class_report_df.loc['support']\n",
        "    total = support.sum() \n",
        "    class_report_df['avg / total'] = avg[:-1] + [total]\n",
        "\n",
        "    class_report_df = class_report_df.T\n",
        "    class_report_df['pred'] = pred_cnt\n",
        "    class_report_df['pred'].iloc[-1] = total\n",
        "\n",
        "    if not (y_score is None):\n",
        "        fpr = dict()\n",
        "        tpr = dict()\n",
        "        roc_auc = dict()\n",
        "        for label_it, label in enumerate(labels):\n",
        "            fpr[label], tpr[label], _ = roc_curve(\n",
        "                (y_true == label).astype(int), \n",
        "                y_score[:, label_it])\n",
        "\n",
        "            roc_auc[label] = auc(fpr[label], tpr[label])\n",
        "\n",
        "        if average == 'micro':\n",
        "            if n_classes <= 2:\n",
        "                fpr[\"avg / total\"], tpr[\"avg / total\"], _ = roc_curve(\n",
        "                    lb.transform(y_true).ravel(), \n",
        "                    y_score[:, 1].ravel())\n",
        "            else:\n",
        "                fpr[\"avg / total\"], tpr[\"avg / total\"], _ = roc_curve(\n",
        "                        lb.transform(y_true).ravel(), \n",
        "                        y_score.ravel())\n",
        "\n",
        "            roc_auc[\"avg / total\"] = auc(\n",
        "                fpr[\"avg / total\"], \n",
        "                tpr[\"avg / total\"])\n",
        "\n",
        "        elif average == 'macro':\n",
        "            # First aggregate all false positive rates\n",
        "            all_fpr = np.unique(np.concatenate([\n",
        "                fpr[i] for i in labels]\n",
        "            ))\n",
        "\n",
        "            # Then interpolate all ROC curves at this points\n",
        "            mean_tpr = np.zeros_like(all_fpr)\n",
        "            for i in labels:\n",
        "                mean_tpr += interp(all_fpr, fpr[i], tpr[i])\n",
        "\n",
        "            # Finally average it and compute AUC\n",
        "            mean_tpr /= n_classes\n",
        "\n",
        "            fpr[\"macro\"] = all_fpr\n",
        "            tpr[\"macro\"] = mean_tpr\n",
        "\n",
        "            roc_auc[\"avg / total\"] = auc(fpr[\"macro\"], tpr[\"macro\"])\n",
        "\n",
        "        class_report_df['AUC'] = pd.Series(roc_auc)\n",
        "\n",
        "    return class_report_df"
      ],
      "execution_count": null,
      "outputs": []
    },
    {
      "cell_type": "markdown",
      "metadata": {
        "id": "Y3wuDsWDAqI6"
      },
      "source": [
        "## **Preprocessing**"
      ]
    },
    {
      "cell_type": "code",
      "metadata": {
        "id": "kwDY-G6-7Vob"
      },
      "source": [
        "#Read paths and create contents for the documents.\n",
        "#Please put the local paths were the queries and docs are located when running.\n",
        "#Data for problem 1\n",
        "folder1 = '/content/drive/MyDrive/MachineLearning/homework-6/covtype'\n",
        "example1 = reader1(folder1)\n",
        "\n",
        "covertype_y_train_index = np.asarray(example1[1]).flatten() - 1\n",
        "covertype_y_test_index = np.asarray(example1[2]).flatten() - 1\n",
        "covertype_labels = np.asarray(example1[0].iloc[:,-1]).flatten()\n",
        "covertype_X = np.asarray(example1[0].iloc[:, :-1].values)\n",
        "\n",
        "covertype_y_train = covertype_labels[covertype_y_train_index]\n",
        "covertype_y_test = covertype_labels[covertype_y_test_index]\n",
        "covertype_X_train = covertype_X[covertype_y_train_index]\n",
        "covertype_X_test = covertype_X[covertype_y_test_index]"
      ],
      "execution_count": null,
      "outputs": []
    },
    {
      "cell_type": "code",
      "metadata": {
        "id": "DJHW6vEuc98g"
      },
      "source": [
        "#Read paths and create contents for the documents.\n",
        "#Please put the local paths were the queries and docs are located when running.\n",
        "#Data for problem 1\n",
        "file1 = '/content/drive/MyDrive/MachineLearning/homework-6/breast_cancer/breast-cancer-scale-train-indices.txt'\n",
        "file2 = '/content/drive/MyDrive/MachineLearning/homework-6/breast_cancer/breast-cancer-scale-test-indices.txt'\n",
        "file3 = '/content/drive/MyDrive/MachineLearning/homework-6/breast_cancer/breast-cancer_scale.txt'\n",
        "\n",
        "#Reading and appending the files.\n",
        "breast_y_train_label= reader2(file1)\n",
        "breast_y_train_index = np.asarray(breast_y_train_label).flatten() - 1\n",
        "breast_y_test_label= reader2(file2)\n",
        "breast_y_test_index = np.asarray(breast_y_test_label).flatten() - 1\n",
        "breast_X= load_svmlight_file(file3)\n",
        "\n",
        "#Append the training and testing dataset together\n",
        "breast_y_train = breast_X[1][breast_y_train_index]\n",
        "breast_y_test = breast_X[1][breast_y_test_index]\n",
        "breast_X_train = breast_X[0][breast_y_train_index]\n",
        "breast_X_test = breast_X[0][breast_y_test_index]"
      ],
      "execution_count": 24,
      "outputs": []
    },
    {
      "cell_type": "code",
      "metadata": {
        "id": "yDse5S34Tcpu"
      },
      "source": [
        "#Read paths and create contents for the documents.\n",
        "#Please put the local paths were the queries and docs are located when running.\n",
        "#Data for problem 2\n",
        "file4 = '/content/drive/MyDrive/MachineLearning/homework-6/sonar/sonar-scale-train-indices.txt'\n",
        "file5 = '/content/drive/MyDrive/MachineLearning/homework-6/sonar/sonar-scale-test-indices.txt'\n",
        "file6 = '/content/drive/MyDrive/MachineLearning/homework-6/sonar/sonar_scale.txt'\n",
        "\n",
        "#Reading and appendinig the files.\n",
        "sonar_y_train_label= reader2(file4)\n",
        "sonar_y_train_index = np.asarray(sonar_y_train_label).flatten() - 1\n",
        "sonar_y_test_label= reader2(file5)\n",
        "sonar_y_test_index = np.asarray(sonar_y_test_label).flatten() - 1\n",
        "sonar_X= load_svmlight_file(file6)\n",
        "\n",
        "#Creating sparse labels from labels\n",
        "sonar_y_train = sonar_X[1][sonar_y_train_index]\n",
        "sonar_y_test = sonar_X[1][sonar_y_test_index]\n",
        "sonar_X_train = sonar_X[0][sonar_y_train_index]\n",
        "sonar_X_test = sonar_X[0][sonar_y_test_index]"
      ],
      "execution_count": 25,
      "outputs": []
    },
    {
      "cell_type": "markdown",
      "metadata": {
        "id": "o6Vhr6QQoLHY"
      },
      "source": [
        "## **Problem 1**\n",
        "Using k-FOLD cross validation with K = 5 for selecting the best C parameter\n",
        "for logisitic regression.\n",
        "\n",
        "### *For the breast cancer data*"
      ]
    },
    {
      "cell_type": "code",
      "metadata": {
        "id": "gOVWwjxpxbuX"
      },
      "source": [
        "#Evaluate which is the best accuracy for the cross validation\n",
        "kcv = KFold(n_splits=5)\n",
        "\n",
        "#List with k's iterating from 0.1 to 10\n",
        "C = [0.1, 1, 10, 100, 1000]"
      ],
      "execution_count": null,
      "outputs": []
    },
    {
      "cell_type": "code",
      "metadata": {
        "colab": {
          "base_uri": "https://localhost:8080/"
        },
        "id": "fTHE9VUSJAcF",
        "outputId": "f1eb977d-56d5-4533-92a6-210ec54b1c36"
      },
      "source": [
        "#Selection of best C for logistic regression\n",
        "for c in C:\n",
        "  start = time.time()\n",
        "  mod1 = LR(C = c)\n",
        "  mod1.fit(breast_X_train, np.ravel(breast_y_train))\n",
        "  results = mod1.score(breast_X_train, np.ravel(breast_y_train))\n",
        "  end = time.time()\n",
        "\n",
        "  scores = cross_val_score(mod1,breast_X_train, np.ravel(breast_y_train), cv = kcv)\n",
        "  print(\"Accuracy : %.2f%%\" % (results*100) + f\" for C={c}\")\n",
        "  print(\"Testing error : %.2f%%\" % ((1-results)*100), end = '\\n')\n",
        "  print(\"Cross validation error: %.2f%%\" % ((1-scores.mean()) * 100) , end = '\\n')\n",
        "  print(\"Time duration \" + str(end - start) + f\"s for c={c}\")\n",
        "  print(\"\")"
      ],
      "execution_count": 27,
      "outputs": [
        {
          "output_type": "stream",
          "name": "stdout",
          "text": [
            "Accuracy : 97.20% for C=0.1\n",
            "Testing error : 2.80%\n",
            "Cross validation error: 3.80%\n",
            "Time duration 0.01815176010131836s for c=0.1\n",
            "\n",
            "Accuracy : 97.60% for C=1\n",
            "Testing error : 2.40%\n",
            "Cross validation error: 3.20%\n",
            "Time duration 0.0137176513671875s for c=1\n",
            "\n",
            "Accuracy : 97.60% for C=10\n",
            "Testing error : 2.40%\n",
            "Cross validation error: 3.20%\n",
            "Time duration 0.015437841415405273s for c=10\n",
            "\n",
            "Accuracy : 97.60% for C=100\n",
            "Testing error : 2.40%\n",
            "Cross validation error: 3.40%\n",
            "Time duration 0.014872312545776367s for c=100\n",
            "\n",
            "Accuracy : 97.60% for C=1000\n",
            "Testing error : 2.40%\n",
            "Cross validation error: 3.40%\n",
            "Time duration 0.01784372329711914s for c=1000\n",
            "\n"
          ]
        }
      ]
    },
    {
      "cell_type": "markdown",
      "metadata": {
        "id": "fqxAs4cEx7sH"
      },
      "source": [
        "Best C for the breast data is c = 1. Use this to fit a model and predict."
      ]
    },
    {
      "cell_type": "code",
      "metadata": {
        "colab": {
          "base_uri": "https://localhost:8080/"
        },
        "id": "GFwPXnWEx6e-",
        "outputId": "c2c84ce3-6175-4418-f826-25eae69f1a3f"
      },
      "source": [
        "#Predict breast cancer labels\n",
        "breast_prediction = training_LogReg(breast_X_train, breast_y_train, breast_X_test, breast_y_test, 1)"
      ],
      "execution_count": 28,
      "outputs": [
        {
          "output_type": "stream",
          "name": "stdout",
          "text": [
            "              precision    recall  f1-score   support\n",
            "\n",
            "         2.0     0.9828    0.9580    0.9702       119\n",
            "         4.0     0.9254    0.9688    0.9466        64\n",
            "\n",
            "    accuracy                         0.9617       183\n",
            "   macro avg     0.9541    0.9634    0.9584       183\n",
            "weighted avg     0.9627    0.9617    0.9619       183\n",
            "\n",
            "Time duration for Logistic Regression 0.02167654037475586s\n"
          ]
        }
      ]
    },
    {
      "cell_type": "code",
      "metadata": {
        "colab": {
          "base_uri": "https://localhost:8080/"
        },
        "id": "ZuWoYwUm68sa",
        "outputId": "d98be282-7d33-4171-9215-5378de3c10b1"
      },
      "source": [
        "breast_prediction"
      ],
      "execution_count": 29,
      "outputs": [
        {
          "output_type": "execute_result",
          "data": {
            "text/plain": [
              "array([2., 4., 4., 2., 2., 2., 2., 4., 2., 4., 2., 2., 2., 2., 2., 4., 4.,\n",
              "       4., 2., 2., 4., 4., 2., 4., 2., 4., 2., 2., 4., 2., 2., 2., 2., 4.,\n",
              "       4., 2., 4., 2., 4., 2., 4., 2., 2., 2., 2., 2., 2., 2., 2., 4., 2.,\n",
              "       4., 2., 4., 4., 2., 4., 2., 2., 4., 2., 4., 2., 2., 4., 4., 4., 2.,\n",
              "       4., 4., 2., 4., 2., 4., 2., 2., 4., 4., 4., 4., 2., 4., 4., 4., 4.,\n",
              "       4., 2., 4., 4., 2., 4., 4., 2., 4., 2., 2., 2., 2., 4., 4., 2., 2.,\n",
              "       2., 4., 2., 2., 2., 4., 2., 2., 2., 2., 2., 2., 4., 2., 2., 2., 2.,\n",
              "       2., 4., 2., 2., 2., 4., 2., 2., 2., 2., 2., 2., 2., 2., 2., 4., 2.,\n",
              "       2., 2., 2., 4., 2., 2., 4., 2., 2., 2., 4., 4., 2., 4., 4., 4., 2.,\n",
              "       4., 2., 2., 2., 4., 2., 2., 2., 2., 2., 2., 2., 2., 4., 2., 4., 2.,\n",
              "       2., 2., 2., 4., 2., 2., 2., 2., 2., 2., 2., 4., 4.])"
            ]
          },
          "metadata": {},
          "execution_count": 29
        }
      ]
    },
    {
      "cell_type": "markdown",
      "metadata": {
        "id": "JORyP3HiWJS6"
      },
      "source": [
        "### *For the sonar data*"
      ]
    },
    {
      "cell_type": "code",
      "metadata": {
        "colab": {
          "base_uri": "https://localhost:8080/"
        },
        "id": "8496Pc1PnZCh",
        "outputId": "c3824fc9-b33f-4172-c133-4bedf9165a95"
      },
      "source": [
        "for c in C:\n",
        "  start2 = time.time()\n",
        "  mod2 = LR(C = c, max_iter=1000)\n",
        "  mod2.fit(sonar_X_train, np.ravel(sonar_y_train))\n",
        "  results2 = mod2.score(sonar_X_train, np.ravel(sonar_y_train))\n",
        "  end2 = time.time()\n",
        "\n",
        "  scores2 = cross_val_score(mod2,sonar_X_train, np.ravel(sonar_y_train), cv = kcv)\n",
        "  print(\"Accuracy : %.2f%%\" % (results2*100) + f\" for C={c}\")\n",
        "  print(\"Testing error : %.2f%%\" % ((1-results2)*100), end = '\\n')\n",
        "  print(\"Cross validation error: %.2f%%\" % ((1-scores2.mean()) * 100) , end = '\\n')\n",
        "  print(\"Time duration \" + str(end2 - start2) + f\"s for c={c}\")\n",
        "  print(\"\")"
      ],
      "execution_count": 30,
      "outputs": [
        {
          "output_type": "stream",
          "name": "stdout",
          "text": [
            "Accuracy : 84.00% for C=0.1\n",
            "Testing error : 16.00%\n",
            "Cross validation error: 60.00%\n",
            "Time duration 0.008052587509155273s for c=0.1\n",
            "\n",
            "Accuracy : 90.67% for C=1\n",
            "Testing error : 9.33%\n",
            "Cross validation error: 51.33%\n",
            "Time duration 0.020798921585083008s for c=1\n",
            "\n",
            "Accuracy : 96.67% for C=10\n",
            "Testing error : 3.33%\n",
            "Cross validation error: 46.67%\n",
            "Time duration 0.04181480407714844s for c=10\n",
            "\n",
            "Accuracy : 100.00% for C=100\n",
            "Testing error : 0.00%\n",
            "Cross validation error: 46.00%\n",
            "Time duration 0.11158490180969238s for c=100\n",
            "\n",
            "Accuracy : 100.00% for C=1000\n",
            "Testing error : 0.00%\n",
            "Cross validation error: 46.00%\n",
            "Time duration 0.14009666442871094s for c=1000\n",
            "\n"
          ]
        }
      ]
    },
    {
      "cell_type": "code",
      "metadata": {
        "colab": {
          "base_uri": "https://localhost:8080/"
        },
        "id": "j0dryTrlJb3x",
        "outputId": "5edb3b19-e33c-4c60-e0e0-78431e58121a"
      },
      "source": [
        "#Predict sonar labels\n",
        "sonar_prediction = training_LogReg(sonar_X_train, sonar_y_train, sonar_X_test, sonar_y_test, 0.1)"
      ],
      "execution_count": 31,
      "outputs": [
        {
          "output_type": "stream",
          "name": "stdout",
          "text": [
            "              precision    recall  f1-score   support\n",
            "\n",
            "        -1.0     0.7105    1.0000    0.8308        27\n",
            "         1.0     1.0000    0.6452    0.7843        31\n",
            "\n",
            "    accuracy                         0.8103        58\n",
            "   macro avg     0.8553    0.8226    0.8075        58\n",
            "weighted avg     0.8652    0.8103    0.8059        58\n",
            "\n",
            "Time duration for Logistic Regression 0.016580581665039062s\n"
          ]
        }
      ]
    },
    {
      "cell_type": "code",
      "metadata": {
        "colab": {
          "base_uri": "https://localhost:8080/"
        },
        "id": "MVLYOLz9tn5k",
        "outputId": "7252edfc-fa92-4da7-b6d2-6a0addad70fc"
      },
      "source": [
        "sonar_prediction"
      ],
      "execution_count": 32,
      "outputs": [
        {
          "output_type": "execute_result",
          "data": {
            "text/plain": [
              "array([ 1., -1., -1., -1.,  1.,  1.,  1., -1., -1.,  1., -1., -1.,  1.,\n",
              "        1., -1.,  1.,  1.,  1., -1.,  1.,  1.,  1.,  1.,  1.,  1., -1.,\n",
              "       -1.,  1.,  1.,  1.,  1., -1., -1., -1., -1., -1., -1., -1., -1.,\n",
              "       -1., -1., -1., -1., -1., -1., -1., -1., -1., -1., -1., -1., -1.,\n",
              "       -1., -1., -1., -1., -1., -1.])"
            ]
          },
          "metadata": {},
          "execution_count": 32
        }
      ]
    },
    {
      "cell_type": "markdown",
      "metadata": {
        "id": "4NSP14VRoTIH"
      },
      "source": [
        "## **Problem 2**\n",
        "Using k-FOLD cross validation with K = 5 for selecting the best C parameter\n",
        "for SVM.\n",
        "\n",
        "### *For the breast cancer data*"
      ]
    },
    {
      "cell_type": "code",
      "metadata": {
        "colab": {
          "base_uri": "https://localhost:8080/"
        },
        "id": "iP4Eg1E_CujV",
        "outputId": "8eb5f061-b4a7-424c-ad95-f0e08aa8747c"
      },
      "source": [
        "#Linear classifier for selection of best C\n",
        "c_selectionSVM(breast_X_train, breast_y_train, kcv, 'linear', C)"
      ],
      "execution_count": 33,
      "outputs": [
        {
          "output_type": "stream",
          "name": "stdout",
          "text": [
            "Accuracy : 97.60% for C=0.1\n",
            "Testing error : 2.40%\n",
            "Cross validation error: 3.40%\n",
            "Time duration 0.012686491012573242s for c=0.1\n",
            "\n",
            "Accuracy : 98.00% for C=1\n",
            "Testing error : 2.00%\n",
            "Cross validation error: 2.80%\n",
            "Time duration 0.006432771682739258s for c=1\n",
            "\n",
            "Accuracy : 97.80% for C=10\n",
            "Testing error : 2.20%\n",
            "Cross validation error: 3.20%\n",
            "Time duration 0.009187459945678711s for c=10\n",
            "\n",
            "Accuracy : 97.80% for C=100\n",
            "Testing error : 2.20%\n",
            "Cross validation error: 3.00%\n",
            "Time duration 0.014660835266113281s for c=100\n",
            "\n",
            "Accuracy : 97.80% for C=1000\n",
            "Testing error : 2.20%\n",
            "Cross validation error: 3.00%\n",
            "Time duration 0.0524752140045166s for c=1000\n",
            "\n"
          ]
        }
      ]
    },
    {
      "cell_type": "markdown",
      "metadata": {
        "id": "TJwqXna3Ev9T"
      },
      "source": [
        "Best c for linear SVM is 1."
      ]
    },
    {
      "cell_type": "code",
      "metadata": {
        "colab": {
          "base_uri": "https://localhost:8080/"
        },
        "id": "mp79Yc4MDhzs",
        "outputId": "d28ecb0f-ec72-4661-9320-67c2f3716967"
      },
      "source": [
        "#Polynomial kernel for selection of best C\n",
        "c_selectionSVM(breast_X_train, breast_y_train, kcv, 'poly', C)"
      ],
      "execution_count": 34,
      "outputs": [
        {
          "output_type": "stream",
          "name": "stdout",
          "text": [
            "Accuracy : 97.80% for C=0.1\n",
            "Testing error : 2.20%\n",
            "Cross validation error: 2.40%\n",
            "Time duration 0.010999679565429688s for c=0.1\n",
            "\n",
            "Accuracy : 98.60% for C=1\n",
            "Testing error : 1.40%\n",
            "Cross validation error: 3.00%\n",
            "Time duration 0.006798505783081055s for c=1\n",
            "\n",
            "Accuracy : 99.60% for C=10\n",
            "Testing error : 0.40%\n",
            "Cross validation error: 4.40%\n",
            "Time duration 0.007773399353027344s for c=10\n",
            "\n",
            "Accuracy : 100.00% for C=100\n",
            "Testing error : 0.00%\n",
            "Cross validation error: 5.20%\n",
            "Time duration 0.008168458938598633s for c=100\n",
            "\n",
            "Accuracy : 100.00% for C=1000\n",
            "Testing error : 0.00%\n",
            "Cross validation error: 5.20%\n",
            "Time duration 0.009651422500610352s for c=1000\n",
            "\n"
          ]
        }
      ]
    },
    {
      "cell_type": "markdown",
      "metadata": {
        "id": "NfkYXfsOE3nr"
      },
      "source": [
        "Best c for polynomial kernel SVM is 0.1."
      ]
    },
    {
      "cell_type": "code",
      "metadata": {
        "colab": {
          "base_uri": "https://localhost:8080/"
        },
        "id": "7nwy_VdiDwuj",
        "outputId": "45348468-8406-489e-c41e-52cb50128fa4"
      },
      "source": [
        "#RBF kernel for selection of best C\n",
        "c_selectionSVM(breast_X_train, breast_y_train, kcv, 'rbf', C)"
      ],
      "execution_count": 35,
      "outputs": [
        {
          "output_type": "stream",
          "name": "stdout",
          "text": [
            "Accuracy : 97.20% for C=0.1\n",
            "Testing error : 2.80%\n",
            "Cross validation error: 3.00%\n",
            "Time duration 0.014107227325439453s for c=0.1\n",
            "\n",
            "Accuracy : 98.00% for C=1\n",
            "Testing error : 2.00%\n",
            "Cross validation error: 3.00%\n",
            "Time duration 0.00538945198059082s for c=1\n",
            "\n",
            "Accuracy : 99.40% for C=10\n",
            "Testing error : 0.60%\n",
            "Cross validation error: 3.80%\n",
            "Time duration 0.005471229553222656s for c=10\n",
            "\n",
            "Accuracy : 100.00% for C=100\n",
            "Testing error : 0.00%\n",
            "Cross validation error: 4.60%\n",
            "Time duration 0.007921695709228516s for c=100\n",
            "\n",
            "Accuracy : 100.00% for C=1000\n",
            "Testing error : 0.00%\n",
            "Cross validation error: 4.60%\n",
            "Time duration 0.007622480392456055s for c=1000\n",
            "\n"
          ]
        }
      ]
    },
    {
      "cell_type": "markdown",
      "metadata": {
        "id": "TFerjEbkFBsV"
      },
      "source": [
        "Best c for RBF kernel SVM is 1."
      ]
    },
    {
      "cell_type": "code",
      "metadata": {
        "colab": {
          "base_uri": "https://localhost:8080/"
        },
        "id": "ubZK0Bp5GEbr",
        "outputId": "75d05449-108e-4928-8139-d434655d617f"
      },
      "source": [
        "#Predict breast cancer label for linear SVM\n",
        "breast_pred_SMV_lin = training_SVM(breast_X_train, breast_y_train, breast_X_test, breast_y_test, 'linear', 1)"
      ],
      "execution_count": 36,
      "outputs": [
        {
          "output_type": "stream",
          "name": "stdout",
          "text": [
            "              precision    recall  f1-score   support\n",
            "\n",
            "         2.0     0.9913    0.9580    0.9744       119\n",
            "         4.0     0.9265    0.9844    0.9545        64\n",
            "\n",
            "    accuracy                         0.9672       183\n",
            "   macro avg     0.9589    0.9712    0.9645       183\n",
            "weighted avg     0.9686    0.9672    0.9674       183\n",
            "\n",
            "Time duration for linear SVM 0.01025080680847168s\n"
          ]
        }
      ]
    },
    {
      "cell_type": "code",
      "metadata": {
        "colab": {
          "base_uri": "https://localhost:8080/"
        },
        "id": "rumBMAeuHBge",
        "outputId": "5c9327a5-ddfa-4224-8534-f8ce561459f8"
      },
      "source": [
        "#Predict breast cancer label for polynomial SVM\n",
        "breast_pred_SMV_POLY = training_SVM(breast_X_train, breast_y_train, breast_X_test, breast_y_test, 'poly', 0.1)"
      ],
      "execution_count": 37,
      "outputs": [
        {
          "output_type": "stream",
          "name": "stdout",
          "text": [
            "              precision    recall  f1-score   support\n",
            "\n",
            "         2.0     1.0000    0.9496    0.9741       119\n",
            "         4.0     0.9143    1.0000    0.9552        64\n",
            "\n",
            "    accuracy                         0.9672       183\n",
            "   macro avg     0.9571    0.9748    0.9647       183\n",
            "weighted avg     0.9700    0.9672    0.9675       183\n",
            "\n",
            "Time duration for poly SVM 0.007169246673583984s\n"
          ]
        }
      ]
    },
    {
      "cell_type": "code",
      "metadata": {
        "colab": {
          "base_uri": "https://localhost:8080/"
        },
        "id": "Dyy0ozzBHd-e",
        "outputId": "ad538965-bc3e-438e-c7bf-7a9fed0bd224"
      },
      "source": [
        "#Predict breast cancer label for RBF SVM\n",
        "breast_pred_SMV_RBF = training_SVM(breast_X_train, breast_y_train, breast_X_test, breast_y_test, 'rbf', 1)"
      ],
      "execution_count": 38,
      "outputs": [
        {
          "output_type": "stream",
          "name": "stdout",
          "text": [
            "              precision    recall  f1-score   support\n",
            "\n",
            "         2.0     0.9913    0.9580    0.9744       119\n",
            "         4.0     0.9265    0.9844    0.9545        64\n",
            "\n",
            "    accuracy                         0.9672       183\n",
            "   macro avg     0.9589    0.9712    0.9645       183\n",
            "weighted avg     0.9686    0.9672    0.9674       183\n",
            "\n",
            "Time duration for rbf SVM 0.008792638778686523s\n"
          ]
        }
      ]
    },
    {
      "cell_type": "markdown",
      "metadata": {
        "id": "o8Nc_MrVJ-z0"
      },
      "source": [
        "### *For the sonar data*"
      ]
    },
    {
      "cell_type": "code",
      "metadata": {
        "colab": {
          "base_uri": "https://localhost:8080/"
        },
        "id": "y8BbUpSCKGXB",
        "outputId": "1293c207-9c79-4c67-8c7d-d445d5126c81"
      },
      "source": [
        "#Linear classifier for selection of best C\n",
        "c_selectionSVM(sonar_X_train, sonar_y_train, kcv, 'linear', C)"
      ],
      "execution_count": 39,
      "outputs": [
        {
          "output_type": "stream",
          "name": "stdout",
          "text": [
            "Accuracy : 85.33% for C=0.1\n",
            "Testing error : 14.67%\n",
            "Cross validation error: 54.67%\n",
            "Time duration 0.013089895248413086s for c=0.1\n",
            "\n",
            "Accuracy : 92.67% for C=1\n",
            "Testing error : 7.33%\n",
            "Cross validation error: 48.67%\n",
            "Time duration 0.008662223815917969s for c=1\n",
            "\n",
            "Accuracy : 98.67% for C=10\n",
            "Testing error : 1.33%\n",
            "Cross validation error: 49.33%\n",
            "Time duration 0.009181022644042969s for c=10\n",
            "\n",
            "Accuracy : 100.00% for C=100\n",
            "Testing error : 0.00%\n",
            "Cross validation error: 48.67%\n",
            "Time duration 0.008723020553588867s for c=100\n",
            "\n",
            "Accuracy : 100.00% for C=1000\n",
            "Testing error : 0.00%\n",
            "Cross validation error: 48.67%\n",
            "Time duration 0.008589744567871094s for c=1000\n",
            "\n"
          ]
        }
      ]
    },
    {
      "cell_type": "markdown",
      "metadata": {
        "id": "F2gYJo3KLJ4u"
      },
      "source": [
        "Best c for linear SVM is 0.1."
      ]
    },
    {
      "cell_type": "code",
      "metadata": {
        "colab": {
          "base_uri": "https://localhost:8080/"
        },
        "id": "nTFZKmSjKLYl",
        "outputId": "68df0c7b-786b-417f-a4c5-d744cff47724"
      },
      "source": [
        "#Polynomial kernel for selection of best C\n",
        "c_selectionSVM(sonar_X_train, sonar_y_train, kcv, 'poly', C)"
      ],
      "execution_count": 40,
      "outputs": [
        {
          "output_type": "stream",
          "name": "stdout",
          "text": [
            "Accuracy : 78.67% for C=0.1\n",
            "Testing error : 21.33%\n",
            "Cross validation error: 54.00%\n",
            "Time duration 0.01251673698425293s for c=0.1\n",
            "\n",
            "Accuracy : 99.33% for C=1\n",
            "Testing error : 0.67%\n",
            "Cross validation error: 54.67%\n",
            "Time duration 0.009649991989135742s for c=1\n",
            "\n",
            "Accuracy : 100.00% for C=10\n",
            "Testing error : 0.00%\n",
            "Cross validation error: 48.67%\n",
            "Time duration 0.009096145629882812s for c=10\n",
            "\n",
            "Accuracy : 100.00% for C=100\n",
            "Testing error : 0.00%\n",
            "Cross validation error: 48.67%\n",
            "Time duration 0.009668111801147461s for c=100\n",
            "\n",
            "Accuracy : 100.00% for C=1000\n",
            "Testing error : 0.00%\n",
            "Cross validation error: 48.67%\n",
            "Time duration 0.008995532989501953s for c=1000\n",
            "\n"
          ]
        }
      ]
    },
    {
      "cell_type": "markdown",
      "metadata": {
        "id": "de5I0DcHLRiF"
      },
      "source": [
        "Best c for polynomial kernel SVM is 1."
      ]
    },
    {
      "cell_type": "code",
      "metadata": {
        "colab": {
          "base_uri": "https://localhost:8080/"
        },
        "id": "SWUPpm9uKOR-",
        "outputId": "452df1ac-97fb-4d3f-e4b6-db3d971001e3"
      },
      "source": [
        "#RBF kernel for selection of best C\n",
        "c_selectionSVM(sonar_X_train, sonar_y_train, kcv, 'rbf', C)"
      ],
      "execution_count": 41,
      "outputs": [
        {
          "output_type": "stream",
          "name": "stdout",
          "text": [
            "Accuracy : 57.33% for C=0.1\n",
            "Testing error : 42.67%\n",
            "Cross validation error: 96.00%\n",
            "Time duration 0.016573190689086914s for c=0.1\n",
            "\n",
            "Accuracy : 97.33% for C=1\n",
            "Testing error : 2.67%\n",
            "Cross validation error: 66.67%\n",
            "Time duration 0.007044553756713867s for c=1\n",
            "\n",
            "Accuracy : 100.00% for C=10\n",
            "Testing error : 0.00%\n",
            "Cross validation error: 55.33%\n",
            "Time duration 0.007279157638549805s for c=10\n",
            "\n",
            "Accuracy : 100.00% for C=100\n",
            "Testing error : 0.00%\n",
            "Cross validation error: 55.33%\n",
            "Time duration 0.010590791702270508s for c=100\n",
            "\n",
            "Accuracy : 100.00% for C=1000\n",
            "Testing error : 0.00%\n",
            "Cross validation error: 55.33%\n",
            "Time duration 0.010941505432128906s for c=1000\n",
            "\n"
          ]
        }
      ]
    },
    {
      "cell_type": "markdown",
      "metadata": {
        "id": "5K3TK9ynLdeF"
      },
      "source": [
        "Best c for RBF RBF SVM is 1."
      ]
    },
    {
      "cell_type": "code",
      "metadata": {
        "colab": {
          "base_uri": "https://localhost:8080/"
        },
        "id": "7Qw5BFSGKR4V",
        "outputId": "e8ccf335-fd7e-466e-8142-3b7be5731179"
      },
      "source": [
        "#Predict sonar label for linear SVM\n",
        "sonar_pred_SMV_lin = training_SVM(sonar_X_train, sonar_y_train, sonar_X_test, sonar_y_test, 'linear', 0.1)"
      ],
      "execution_count": 42,
      "outputs": [
        {
          "output_type": "stream",
          "name": "stdout",
          "text": [
            "              precision    recall  f1-score   support\n",
            "\n",
            "        -1.0     0.6579    0.9259    0.7692        27\n",
            "         1.0     0.9000    0.5806    0.7059        31\n",
            "\n",
            "    accuracy                         0.7414        58\n",
            "   macro avg     0.7789    0.7533    0.7376        58\n",
            "weighted avg     0.7873    0.7414    0.7354        58\n",
            "\n",
            "Time duration for linear SVM 0.013342142105102539s\n"
          ]
        }
      ]
    },
    {
      "cell_type": "code",
      "metadata": {
        "colab": {
          "base_uri": "https://localhost:8080/"
        },
        "id": "nEQsKL4UKUlK",
        "outputId": "fd4b465d-a285-4fc1-ee5c-3d449cb6ff93"
      },
      "source": [
        "#Predict sonar label for polynomial SVM\n",
        "sonar_pred_SMV_POLY = training_SVM(sonar_X_train, sonar_y_train, sonar_X_test, sonar_y_test, 'poly', 1)"
      ],
      "execution_count": 43,
      "outputs": [
        {
          "output_type": "stream",
          "name": "stdout",
          "text": [
            "              precision    recall  f1-score   support\n",
            "\n",
            "        -1.0     0.7941    1.0000    0.8852        27\n",
            "         1.0     1.0000    0.7742    0.8727        31\n",
            "\n",
            "    accuracy                         0.8793        58\n",
            "   macro avg     0.8971    0.8871    0.8790        58\n",
            "weighted avg     0.9042    0.8793    0.8786        58\n",
            "\n",
            "Time duration for poly SVM 0.00928354263305664s\n"
          ]
        }
      ]
    },
    {
      "cell_type": "code",
      "metadata": {
        "colab": {
          "base_uri": "https://localhost:8080/"
        },
        "id": "vNP08gsTKW4v",
        "outputId": "b6d1657b-01d9-4e75-cca9-dec7ff46a745"
      },
      "source": [
        "#Predict sonar label for RBF SVM\n",
        "sonar_pred_SMV_RBF = training_SVM(sonar_X_train, sonar_y_train, sonar_X_test, sonar_y_test, 'rbf', 1)"
      ],
      "execution_count": 44,
      "outputs": [
        {
          "output_type": "stream",
          "name": "stdout",
          "text": [
            "              precision    recall  f1-score   support\n",
            "\n",
            "        -1.0     0.7297    1.0000    0.8437        27\n",
            "         1.0     1.0000    0.6774    0.8077        31\n",
            "\n",
            "    accuracy                         0.8276        58\n",
            "   macro avg     0.8649    0.8387    0.8257        58\n",
            "weighted avg     0.8742    0.8276    0.8245        58\n",
            "\n",
            "Time duration for rbf SVM 0.008685111999511719s\n"
          ]
        }
      ]
    },
    {
      "cell_type": "markdown",
      "metadata": {
        "id": "Ec3Br6KeogQH"
      },
      "source": [
        "## **Problem 3**\n",
        "\n",
        "To analyze the performance and best c parameter for each of the scaling types, a subsizing of the training datasets was done to shorten the timing of the simulations."
      ]
    },
    {
      "cell_type": "code",
      "metadata": {
        "id": "qV5F34JFsRLZ"
      },
      "source": [
        "#Standard scaler.\n",
        "sscaler1 = StandardScaler()"
      ],
      "execution_count": null,
      "outputs": []
    },
    {
      "cell_type": "code",
      "metadata": {
        "id": "NIX_T3ZH9Bmp"
      },
      "source": [
        "#Min max scaler.\n",
        "sscaler2 = MinMaxScaler()"
      ],
      "execution_count": null,
      "outputs": []
    },
    {
      "cell_type": "code",
      "metadata": {
        "id": "WfVmYyalB-uK"
      },
      "source": [
        "#Normalizing data scaler.\n",
        "sscaler3 = Normalizer()"
      ],
      "execution_count": null,
      "outputs": []
    },
    {
      "cell_type": "code",
      "metadata": {
        "colab": {
          "base_uri": "https://localhost:8080/"
        },
        "id": "x-CeB_9_oaiQ",
        "outputId": "1cea909e-11c0-4d56-8b00-0e2e922016d5"
      },
      "source": [
        "#standard scaler best c\n",
        "c_selectionLSVM(covertype_X_train[:10000], covertype_y_train[:10000],'scaler',sscaler1, kcv, C)"
      ],
      "execution_count": null,
      "outputs": [
        {
          "name": "stderr",
          "output_type": "stream",
          "text": [
            "/usr/local/lib/python3.7/dist-packages/sklearn/svm/_base.py:947: ConvergenceWarning: Liblinear failed to converge, increase the number of iterations.\n",
            "  \"the number of iterations.\", ConvergenceWarning)\n",
            "/usr/local/lib/python3.7/dist-packages/sklearn/svm/_base.py:947: ConvergenceWarning: Liblinear failed to converge, increase the number of iterations.\n",
            "  \"the number of iterations.\", ConvergenceWarning)\n",
            "/usr/local/lib/python3.7/dist-packages/sklearn/svm/_base.py:947: ConvergenceWarning: Liblinear failed to converge, increase the number of iterations.\n",
            "  \"the number of iterations.\", ConvergenceWarning)\n",
            "/usr/local/lib/python3.7/dist-packages/sklearn/svm/_base.py:947: ConvergenceWarning: Liblinear failed to converge, increase the number of iterations.\n",
            "  \"the number of iterations.\", ConvergenceWarning)\n",
            "/usr/local/lib/python3.7/dist-packages/sklearn/svm/_base.py:947: ConvergenceWarning: Liblinear failed to converge, increase the number of iterations.\n",
            "  \"the number of iterations.\", ConvergenceWarning)\n"
          ]
        },
        {
          "name": "stdout",
          "output_type": "stream",
          "text": [
            "Accuracy : 67.00% for C=0.1\n",
            "Testing error : 33.00%\n",
            "Cross validation error: 49.91%\n",
            "Time duration 6.652710437774658s for c=0.1\n",
            "\n"
          ]
        },
        {
          "name": "stderr",
          "output_type": "stream",
          "text": [
            "/usr/local/lib/python3.7/dist-packages/sklearn/svm/_base.py:947: ConvergenceWarning: Liblinear failed to converge, increase the number of iterations.\n",
            "  \"the number of iterations.\", ConvergenceWarning)\n",
            "/usr/local/lib/python3.7/dist-packages/sklearn/svm/_base.py:947: ConvergenceWarning: Liblinear failed to converge, increase the number of iterations.\n",
            "  \"the number of iterations.\", ConvergenceWarning)\n",
            "/usr/local/lib/python3.7/dist-packages/sklearn/svm/_base.py:947: ConvergenceWarning: Liblinear failed to converge, increase the number of iterations.\n",
            "  \"the number of iterations.\", ConvergenceWarning)\n",
            "/usr/local/lib/python3.7/dist-packages/sklearn/svm/_base.py:947: ConvergenceWarning: Liblinear failed to converge, increase the number of iterations.\n",
            "  \"the number of iterations.\", ConvergenceWarning)\n",
            "/usr/local/lib/python3.7/dist-packages/sklearn/svm/_base.py:947: ConvergenceWarning: Liblinear failed to converge, increase the number of iterations.\n",
            "  \"the number of iterations.\", ConvergenceWarning)\n",
            "/usr/local/lib/python3.7/dist-packages/sklearn/svm/_base.py:947: ConvergenceWarning: Liblinear failed to converge, increase the number of iterations.\n",
            "  \"the number of iterations.\", ConvergenceWarning)\n"
          ]
        },
        {
          "name": "stdout",
          "output_type": "stream",
          "text": [
            "Accuracy : 67.30% for C=1\n",
            "Testing error : 32.70%\n",
            "Cross validation error: 50.20%\n",
            "Time duration 11.288730144500732s for c=1\n",
            "\n"
          ]
        },
        {
          "name": "stderr",
          "output_type": "stream",
          "text": [
            "/usr/local/lib/python3.7/dist-packages/sklearn/svm/_base.py:947: ConvergenceWarning: Liblinear failed to converge, increase the number of iterations.\n",
            "  \"the number of iterations.\", ConvergenceWarning)\n",
            "/usr/local/lib/python3.7/dist-packages/sklearn/svm/_base.py:947: ConvergenceWarning: Liblinear failed to converge, increase the number of iterations.\n",
            "  \"the number of iterations.\", ConvergenceWarning)\n",
            "/usr/local/lib/python3.7/dist-packages/sklearn/svm/_base.py:947: ConvergenceWarning: Liblinear failed to converge, increase the number of iterations.\n",
            "  \"the number of iterations.\", ConvergenceWarning)\n",
            "/usr/local/lib/python3.7/dist-packages/sklearn/svm/_base.py:947: ConvergenceWarning: Liblinear failed to converge, increase the number of iterations.\n",
            "  \"the number of iterations.\", ConvergenceWarning)\n",
            "/usr/local/lib/python3.7/dist-packages/sklearn/svm/_base.py:947: ConvergenceWarning: Liblinear failed to converge, increase the number of iterations.\n",
            "  \"the number of iterations.\", ConvergenceWarning)\n",
            "/usr/local/lib/python3.7/dist-packages/sklearn/svm/_base.py:947: ConvergenceWarning: Liblinear failed to converge, increase the number of iterations.\n",
            "  \"the number of iterations.\", ConvergenceWarning)\n"
          ]
        },
        {
          "name": "stdout",
          "output_type": "stream",
          "text": [
            "Accuracy : 67.14% for C=10\n",
            "Testing error : 32.86%\n",
            "Cross validation error: 50.48%\n",
            "Time duration 13.491381168365479s for c=10\n",
            "\n"
          ]
        },
        {
          "name": "stderr",
          "output_type": "stream",
          "text": [
            "/usr/local/lib/python3.7/dist-packages/sklearn/svm/_base.py:947: ConvergenceWarning: Liblinear failed to converge, increase the number of iterations.\n",
            "  \"the number of iterations.\", ConvergenceWarning)\n",
            "/usr/local/lib/python3.7/dist-packages/sklearn/svm/_base.py:947: ConvergenceWarning: Liblinear failed to converge, increase the number of iterations.\n",
            "  \"the number of iterations.\", ConvergenceWarning)\n",
            "/usr/local/lib/python3.7/dist-packages/sklearn/svm/_base.py:947: ConvergenceWarning: Liblinear failed to converge, increase the number of iterations.\n",
            "  \"the number of iterations.\", ConvergenceWarning)\n",
            "/usr/local/lib/python3.7/dist-packages/sklearn/svm/_base.py:947: ConvergenceWarning: Liblinear failed to converge, increase the number of iterations.\n",
            "  \"the number of iterations.\", ConvergenceWarning)\n",
            "/usr/local/lib/python3.7/dist-packages/sklearn/svm/_base.py:947: ConvergenceWarning: Liblinear failed to converge, increase the number of iterations.\n",
            "  \"the number of iterations.\", ConvergenceWarning)\n",
            "/usr/local/lib/python3.7/dist-packages/sklearn/svm/_base.py:947: ConvergenceWarning: Liblinear failed to converge, increase the number of iterations.\n",
            "  \"the number of iterations.\", ConvergenceWarning)\n"
          ]
        },
        {
          "name": "stdout",
          "output_type": "stream",
          "text": [
            "Accuracy : 58.86% for C=100\n",
            "Testing error : 41.14%\n",
            "Cross validation error: 57.74%\n",
            "Time duration 14.303043365478516s for c=100\n",
            "\n"
          ]
        },
        {
          "name": "stderr",
          "output_type": "stream",
          "text": [
            "/usr/local/lib/python3.7/dist-packages/sklearn/svm/_base.py:947: ConvergenceWarning: Liblinear failed to converge, increase the number of iterations.\n",
            "  \"the number of iterations.\", ConvergenceWarning)\n",
            "/usr/local/lib/python3.7/dist-packages/sklearn/svm/_base.py:947: ConvergenceWarning: Liblinear failed to converge, increase the number of iterations.\n",
            "  \"the number of iterations.\", ConvergenceWarning)\n",
            "/usr/local/lib/python3.7/dist-packages/sklearn/svm/_base.py:947: ConvergenceWarning: Liblinear failed to converge, increase the number of iterations.\n",
            "  \"the number of iterations.\", ConvergenceWarning)\n",
            "/usr/local/lib/python3.7/dist-packages/sklearn/svm/_base.py:947: ConvergenceWarning: Liblinear failed to converge, increase the number of iterations.\n",
            "  \"the number of iterations.\", ConvergenceWarning)\n",
            "/usr/local/lib/python3.7/dist-packages/sklearn/svm/_base.py:947: ConvergenceWarning: Liblinear failed to converge, increase the number of iterations.\n",
            "  \"the number of iterations.\", ConvergenceWarning)\n"
          ]
        },
        {
          "name": "stdout",
          "output_type": "stream",
          "text": [
            "Accuracy : 52.85% for C=1000\n",
            "Testing error : 47.15%\n",
            "Cross validation error: 58.53%\n",
            "Time duration 14.173905611038208s for c=1000\n",
            "\n"
          ]
        },
        {
          "name": "stderr",
          "output_type": "stream",
          "text": [
            "/usr/local/lib/python3.7/dist-packages/sklearn/svm/_base.py:947: ConvergenceWarning: Liblinear failed to converge, increase the number of iterations.\n",
            "  \"the number of iterations.\", ConvergenceWarning)\n"
          ]
        }
      ]
    },
    {
      "cell_type": "markdown",
      "metadata": {
        "id": "_n1NFm2UqNUs"
      },
      "source": [
        "Best C for standard scaler is 0.1"
      ]
    },
    {
      "cell_type": "code",
      "metadata": {
        "colab": {
          "base_uri": "https://localhost:8080/"
        },
        "id": "Sr3HvYTtF1pw",
        "outputId": "425c2774-f9b1-4e1d-d1ec-4ffa48dc2aff"
      },
      "source": [
        "#minmax scaling best c\n",
        "c_selectionLSVM(covertype_X_train[:10000], covertype_y_train[:10000],'minmax',sscaler2, kcv, C)"
      ],
      "execution_count": null,
      "outputs": [
        {
          "name": "stdout",
          "output_type": "stream",
          "text": [
            "Accuracy : 65.79% for C=0.1\n",
            "Testing error : 34.21%\n",
            "Cross validation error: 49.68%\n",
            "Time duration 0.10467934608459473s for c=0.1\n",
            "\n",
            "Accuracy : 66.83% for C=1\n",
            "Testing error : 33.17%\n",
            "Cross validation error: 50.26%\n",
            "Time duration 0.34876036643981934s for c=1\n",
            "\n",
            "Accuracy : 67.26% for C=10\n",
            "Testing error : 32.74%\n",
            "Cross validation error: 50.38%\n",
            "Time duration 2.484750747680664s for c=10\n",
            "\n"
          ]
        },
        {
          "name": "stderr",
          "output_type": "stream",
          "text": [
            "/usr/local/lib/python3.7/dist-packages/sklearn/svm/_base.py:947: ConvergenceWarning: Liblinear failed to converge, increase the number of iterations.\n",
            "  \"the number of iterations.\", ConvergenceWarning)\n",
            "/usr/local/lib/python3.7/dist-packages/sklearn/svm/_base.py:947: ConvergenceWarning: Liblinear failed to converge, increase the number of iterations.\n",
            "  \"the number of iterations.\", ConvergenceWarning)\n",
            "/usr/local/lib/python3.7/dist-packages/sklearn/svm/_base.py:947: ConvergenceWarning: Liblinear failed to converge, increase the number of iterations.\n",
            "  \"the number of iterations.\", ConvergenceWarning)\n",
            "/usr/local/lib/python3.7/dist-packages/sklearn/svm/_base.py:947: ConvergenceWarning: Liblinear failed to converge, increase the number of iterations.\n",
            "  \"the number of iterations.\", ConvergenceWarning)\n",
            "/usr/local/lib/python3.7/dist-packages/sklearn/svm/_base.py:947: ConvergenceWarning: Liblinear failed to converge, increase the number of iterations.\n",
            "  \"the number of iterations.\", ConvergenceWarning)\n",
            "/usr/local/lib/python3.7/dist-packages/sklearn/svm/_base.py:947: ConvergenceWarning: Liblinear failed to converge, increase the number of iterations.\n",
            "  \"the number of iterations.\", ConvergenceWarning)\n"
          ]
        },
        {
          "name": "stdout",
          "output_type": "stream",
          "text": [
            "Accuracy : 64.79% for C=100\n",
            "Testing error : 35.21%\n",
            "Cross validation error: 51.45%\n",
            "Time duration 4.575580835342407s for c=100\n",
            "\n"
          ]
        },
        {
          "name": "stderr",
          "output_type": "stream",
          "text": [
            "/usr/local/lib/python3.7/dist-packages/sklearn/svm/_base.py:947: ConvergenceWarning: Liblinear failed to converge, increase the number of iterations.\n",
            "  \"the number of iterations.\", ConvergenceWarning)\n",
            "/usr/local/lib/python3.7/dist-packages/sklearn/svm/_base.py:947: ConvergenceWarning: Liblinear failed to converge, increase the number of iterations.\n",
            "  \"the number of iterations.\", ConvergenceWarning)\n",
            "/usr/local/lib/python3.7/dist-packages/sklearn/svm/_base.py:947: ConvergenceWarning: Liblinear failed to converge, increase the number of iterations.\n",
            "  \"the number of iterations.\", ConvergenceWarning)\n",
            "/usr/local/lib/python3.7/dist-packages/sklearn/svm/_base.py:947: ConvergenceWarning: Liblinear failed to converge, increase the number of iterations.\n",
            "  \"the number of iterations.\", ConvergenceWarning)\n",
            "/usr/local/lib/python3.7/dist-packages/sklearn/svm/_base.py:947: ConvergenceWarning: Liblinear failed to converge, increase the number of iterations.\n",
            "  \"the number of iterations.\", ConvergenceWarning)\n"
          ]
        },
        {
          "name": "stdout",
          "output_type": "stream",
          "text": [
            "Accuracy : 56.43% for C=1000\n",
            "Testing error : 43.57%\n",
            "Cross validation error: 63.85%\n",
            "Time duration 4.789214611053467s for c=1000\n",
            "\n"
          ]
        },
        {
          "name": "stderr",
          "output_type": "stream",
          "text": [
            "/usr/local/lib/python3.7/dist-packages/sklearn/svm/_base.py:947: ConvergenceWarning: Liblinear failed to converge, increase the number of iterations.\n",
            "  \"the number of iterations.\", ConvergenceWarning)\n"
          ]
        }
      ]
    },
    {
      "cell_type": "markdown",
      "metadata": {
        "id": "44xRLGe_pKqQ"
      },
      "source": [
        "Best C for minmax scaling is 1."
      ]
    },
    {
      "cell_type": "code",
      "metadata": {
        "colab": {
          "base_uri": "https://localhost:8080/"
        },
        "id": "WRbqRrwYvkYw",
        "outputId": "52795052-5807-4a79-b77a-b82bf7b85c13"
      },
      "source": [
        "#normalizing data scaling best c\n",
        "c_selectionLSVM(covertype_X_train[:10000], covertype_y_train[:10000],'normalize',sscaler3, kcv, C)"
      ],
      "execution_count": null,
      "outputs": [
        {
          "name": "stdout",
          "output_type": "stream",
          "text": [
            "Accuracy : 38.41% for C=0.1\n",
            "Testing error : 61.59%\n",
            "Cross validation error: 83.86%\n",
            "Time duration 0.08797335624694824s for c=0.1\n",
            "\n",
            "Accuracy : 46.27% for C=1\n",
            "Testing error : 53.73%\n",
            "Cross validation error: 76.08%\n",
            "Time duration 0.25222063064575195s for c=1\n",
            "\n",
            "Accuracy : 51.70% for C=10\n",
            "Testing error : 48.30%\n",
            "Cross validation error: 68.99%\n",
            "Time duration 1.6026058197021484s for c=10\n",
            "\n"
          ]
        },
        {
          "name": "stderr",
          "output_type": "stream",
          "text": [
            "/usr/local/lib/python3.7/dist-packages/sklearn/svm/_base.py:947: ConvergenceWarning: Liblinear failed to converge, increase the number of iterations.\n",
            "  \"the number of iterations.\", ConvergenceWarning)\n",
            "/usr/local/lib/python3.7/dist-packages/sklearn/svm/_base.py:947: ConvergenceWarning: Liblinear failed to converge, increase the number of iterations.\n",
            "  \"the number of iterations.\", ConvergenceWarning)\n",
            "/usr/local/lib/python3.7/dist-packages/sklearn/svm/_base.py:947: ConvergenceWarning: Liblinear failed to converge, increase the number of iterations.\n",
            "  \"the number of iterations.\", ConvergenceWarning)\n",
            "/usr/local/lib/python3.7/dist-packages/sklearn/svm/_base.py:947: ConvergenceWarning: Liblinear failed to converge, increase the number of iterations.\n",
            "  \"the number of iterations.\", ConvergenceWarning)\n",
            "/usr/local/lib/python3.7/dist-packages/sklearn/svm/_base.py:947: ConvergenceWarning: Liblinear failed to converge, increase the number of iterations.\n",
            "  \"the number of iterations.\", ConvergenceWarning)\n",
            "/usr/local/lib/python3.7/dist-packages/sklearn/svm/_base.py:947: ConvergenceWarning: Liblinear failed to converge, increase the number of iterations.\n",
            "  \"the number of iterations.\", ConvergenceWarning)\n"
          ]
        },
        {
          "name": "stdout",
          "output_type": "stream",
          "text": [
            "Accuracy : 57.14% for C=100\n",
            "Testing error : 42.86%\n",
            "Cross validation error: 63.47%\n",
            "Time duration 7.190650701522827s for c=100\n",
            "\n"
          ]
        },
        {
          "name": "stderr",
          "output_type": "stream",
          "text": [
            "/usr/local/lib/python3.7/dist-packages/sklearn/svm/_base.py:947: ConvergenceWarning: Liblinear failed to converge, increase the number of iterations.\n",
            "  \"the number of iterations.\", ConvergenceWarning)\n",
            "/usr/local/lib/python3.7/dist-packages/sklearn/svm/_base.py:947: ConvergenceWarning: Liblinear failed to converge, increase the number of iterations.\n",
            "  \"the number of iterations.\", ConvergenceWarning)\n",
            "/usr/local/lib/python3.7/dist-packages/sklearn/svm/_base.py:947: ConvergenceWarning: Liblinear failed to converge, increase the number of iterations.\n",
            "  \"the number of iterations.\", ConvergenceWarning)\n",
            "/usr/local/lib/python3.7/dist-packages/sklearn/svm/_base.py:947: ConvergenceWarning: Liblinear failed to converge, increase the number of iterations.\n",
            "  \"the number of iterations.\", ConvergenceWarning)\n",
            "/usr/local/lib/python3.7/dist-packages/sklearn/svm/_base.py:947: ConvergenceWarning: Liblinear failed to converge, increase the number of iterations.\n",
            "  \"the number of iterations.\", ConvergenceWarning)\n"
          ]
        },
        {
          "name": "stdout",
          "output_type": "stream",
          "text": [
            "Accuracy : 45.82% for C=1000\n",
            "Testing error : 54.18%\n",
            "Cross validation error: 70.72%\n",
            "Time duration 7.764643430709839s for c=1000\n",
            "\n"
          ]
        },
        {
          "name": "stderr",
          "output_type": "stream",
          "text": [
            "/usr/local/lib/python3.7/dist-packages/sklearn/svm/_base.py:947: ConvergenceWarning: Liblinear failed to converge, increase the number of iterations.\n",
            "  \"the number of iterations.\", ConvergenceWarning)\n"
          ]
        }
      ]
    },
    {
      "cell_type": "markdown",
      "metadata": {
        "id": "16AxRjyPwJcl"
      },
      "source": [
        "Best C for normalized scaling is 10."
      ]
    },
    {
      "cell_type": "markdown",
      "metadata": {
        "id": "wS8ndOAywp9x"
      },
      "source": [
        "### Standard Scaler predictions and ROC's"
      ]
    },
    {
      "cell_type": "code",
      "metadata": {
        "colab": {
          "background_save": true,
          "base_uri": "https://localhost:8080/"
        },
        "id": "T3FKnd5Sjsq0",
        "outputId": "3d805f83-ecf0-4b75-9efb-55a17b9995bd"
      },
      "source": [
        "#Predict sonar label for linear SVM with standard scaler\n",
        "covertype_pred_SMV_lin1 = SVM_pipeliner(covertype_X_train, covertype_y_train , 'scaler', sscaler1, 1, 0.1)"
      ],
      "execution_count": null,
      "outputs": [
        {
          "name": "stderr",
          "output_type": "stream",
          "text": [
            "/usr/local/lib/python3.7/dist-packages/sklearn/svm/_base.py:947: ConvergenceWarning: Liblinear failed to converge, increase the number of iterations.\n",
            "  \"the number of iterations.\", ConvergenceWarning)\n",
            "/usr/local/lib/python3.7/dist-packages/sklearn/svm/_base.py:947: ConvergenceWarning: Liblinear failed to converge, increase the number of iterations.\n",
            "  \"the number of iterations.\", ConvergenceWarning)\n",
            "/usr/local/lib/python3.7/dist-packages/sklearn/svm/_base.py:947: ConvergenceWarning: Liblinear failed to converge, increase the number of iterations.\n",
            "  \"the number of iterations.\", ConvergenceWarning)\n",
            "/usr/local/lib/python3.7/dist-packages/sklearn/svm/_base.py:947: ConvergenceWarning: Liblinear failed to converge, increase the number of iterations.\n",
            "  \"the number of iterations.\", ConvergenceWarning)\n",
            "/usr/local/lib/python3.7/dist-packages/sklearn/svm/_base.py:947: ConvergenceWarning: Liblinear failed to converge, increase the number of iterations.\n",
            "  \"the number of iterations.\", ConvergenceWarning)\n"
          ]
        },
        {
          "name": "stdout",
          "output_type": "stream",
          "text": [
            "Time duration for scaler SVM 5326.947482824326s\n"
          ]
        }
      ]
    },
    {
      "cell_type": "code",
      "metadata": {
        "colab": {
          "base_uri": "https://localhost:8080/",
          "height": 325
        },
        "id": "e0BEl1riWxtu",
        "outputId": "a97a9a95-c28a-437b-e9fb-9d975bacdf6d"
      },
      "source": [
        "class_report(covertype_y_test, covertype_pred_SMV_lin1.predict(covertype_X_test), y_score=covertype_pred_SMV_lin1.predict_proba(covertype_X_test))"
      ],
      "execution_count": 21,
      "outputs": [
        {
          "output_type": "stream",
          "name": "stderr",
          "text": [
            "/usr/local/lib/python3.7/dist-packages/sklearn/metrics/_classification.py:1272: UndefinedMetricWarning: Precision and F-score are ill-defined and being set to 0.0 in labels with no predicted samples. Use `zero_division` parameter to control this behavior.\n",
            "  _warn_prf(average, modifier, msg_start, len(result))\n"
          ]
        },
        {
          "output_type": "execute_result",
          "data": {
            "text/html": [
              "<div>\n",
              "<style scoped>\n",
              "    .dataframe tbody tr th:only-of-type {\n",
              "        vertical-align: middle;\n",
              "    }\n",
              "\n",
              "    .dataframe tbody tr th {\n",
              "        vertical-align: top;\n",
              "    }\n",
              "\n",
              "    .dataframe thead th {\n",
              "        text-align: right;\n",
              "    }\n",
              "</style>\n",
              "<table border=\"1\" class=\"dataframe\">\n",
              "  <thead>\n",
              "    <tr style=\"text-align: right;\">\n",
              "      <th></th>\n",
              "      <th>precision</th>\n",
              "      <th>recall</th>\n",
              "      <th>f1-score</th>\n",
              "      <th>support</th>\n",
              "      <th>pred</th>\n",
              "      <th>AUC</th>\n",
              "    </tr>\n",
              "  </thead>\n",
              "  <tbody>\n",
              "    <tr>\n",
              "      <th>1</th>\n",
              "      <td>0.707860</td>\n",
              "      <td>0.695141</td>\n",
              "      <td>0.701443</td>\n",
              "      <td>21259.0</td>\n",
              "      <td>20877.0</td>\n",
              "      <td>0.853142</td>\n",
              "    </tr>\n",
              "    <tr>\n",
              "      <th>2</th>\n",
              "      <td>0.739417</td>\n",
              "      <td>0.795189</td>\n",
              "      <td>0.766289</td>\n",
              "      <td>28226.0</td>\n",
              "      <td>30355.0</td>\n",
              "      <td>0.839028</td>\n",
              "    </tr>\n",
              "    <tr>\n",
              "      <th>3</th>\n",
              "      <td>0.619701</td>\n",
              "      <td>0.860697</td>\n",
              "      <td>0.720583</td>\n",
              "      <td>3618.0</td>\n",
              "      <td>5025.0</td>\n",
              "      <td>0.983111</td>\n",
              "    </tr>\n",
              "    <tr>\n",
              "      <th>4</th>\n",
              "      <td>0.727273</td>\n",
              "      <td>0.115523</td>\n",
              "      <td>0.199377</td>\n",
              "      <td>277.0</td>\n",
              "      <td>44.0</td>\n",
              "      <td>0.993900</td>\n",
              "    </tr>\n",
              "    <tr>\n",
              "      <th>6</th>\n",
              "      <td>0.421788</td>\n",
              "      <td>0.086832</td>\n",
              "      <td>0.144015</td>\n",
              "      <td>1739.0</td>\n",
              "      <td>358.0</td>\n",
              "      <td>0.411145</td>\n",
              "    </tr>\n",
              "    <tr>\n",
              "      <th>7</th>\n",
              "      <td>0.730236</td>\n",
              "      <td>0.500238</td>\n",
              "      <td>0.593741</td>\n",
              "      <td>2105.0</td>\n",
              "      <td>1442.0</td>\n",
              "      <td>0.309243</td>\n",
              "    </tr>\n",
              "    <tr>\n",
              "      <th>avg / total</th>\n",
              "      <td>0.699357</td>\n",
              "      <td>0.715530</td>\n",
              "      <td>0.700570</td>\n",
              "      <td>57224.0</td>\n",
              "      <td>57224.0</td>\n",
              "      <td>0.958195</td>\n",
              "    </tr>\n",
              "  </tbody>\n",
              "</table>\n",
              "</div>"
            ],
            "text/plain": [
              "             precision    recall  f1-score  support     pred       AUC\n",
              "1             0.707860  0.695141  0.701443  21259.0  20877.0  0.853142\n",
              "2             0.739417  0.795189  0.766289  28226.0  30355.0  0.839028\n",
              "3             0.619701  0.860697  0.720583   3618.0   5025.0  0.983111\n",
              "4             0.727273  0.115523  0.199377    277.0     44.0  0.993900\n",
              "6             0.421788  0.086832  0.144015   1739.0    358.0  0.411145\n",
              "7             0.730236  0.500238  0.593741   2105.0   1442.0  0.309243\n",
              "avg / total   0.699357  0.715530  0.700570  57224.0  57224.0  0.958195"
            ]
          },
          "metadata": {},
          "execution_count": 21
        }
      ]
    },
    {
      "cell_type": "code",
      "metadata": {
        "colab": {
          "base_uri": "https://localhost:8080/",
          "height": 351
        },
        "id": "2trkXwzOW8z0",
        "outputId": "a274c9fa-db87-465f-8010-e07a552c40c7"
      },
      "source": [
        "skplt.metrics.plot_roc_curve(covertype_y_test, covertype_pred_SMV_lin1.predict_proba(covertype_X_test))\n",
        "plt.show()"
      ],
      "execution_count": 23,
      "outputs": [
        {
          "output_type": "stream",
          "name": "stderr",
          "text": [
            "/usr/local/lib/python3.7/dist-packages/sklearn/utils/deprecation.py:87: FutureWarning: Function plot_roc_curve is deprecated; This will be removed in v0.5.0. Please use scikitplot.metrics.plot_roc instead.\n",
            "  warnings.warn(msg, category=FutureWarning)\n"
          ]
        },
        {
          "output_type": "display_data",
          "data": {
            "image/png": "[encoded data removed]",
            "text/plain": [
              "<Figure size 432x288 with 1 Axes>"
            ]
          },
          "metadata": {
            "needs_background": "light"
          }
        }
      ]
    },
    {
      "cell_type": "markdown",
      "metadata": {
        "id": "vHQyozONP5LY"
      },
      "source": [
        "### MinMax Scaler predictions and ROC's"
      ]
    },
    {
      "cell_type": "code",
      "metadata": {
        "colab": {
          "base_uri": "https://localhost:8080/"
        },
        "id": "QBEP-P_X9O9j",
        "outputId": "1de37733-15d8-48c7-82fd-b56d2ca19f36"
      },
      "source": [
        "#Predict sonar label for linear SVM with minmax scaler\n",
        "covertype_pred_SMV_lin2 = SVM_pipeliner(covertype_X_train, covertype_y_train ,'minmax', sscaler2, 1, 0.01)"
      ],
      "execution_count": null,
      "outputs": [
        {
          "name": "stdout",
          "output_type": "stream",
          "text": [
            "Time duration for minmax SVM 244.05137848854065s\n"
          ]
        }
      ]
    },
    {
      "cell_type": "code",
      "metadata": {
        "colab": {
          "base_uri": "https://localhost:8080/",
          "height": 300
        },
        "id": "7YBjo5d7GkyU",
        "outputId": "b7a50302-d055-46be-9b4e-46155cb2b5b3"
      },
      "source": [
        "class_report(covertype_y_test, covertype_pred_SMV_lin2.predict(covertype_X_test), y_score=covertype_pred_SMV_lin2.predict_proba(covertype_X_test))"
      ],
      "execution_count": null,
      "outputs": [
        {
          "data": {
            "text/html": [
              "<div>\n",
              "<style scoped>\n",
              "    .dataframe tbody tr th:only-of-type {\n",
              "        vertical-align: middle;\n",
              "    }\n",
              "\n",
              "    .dataframe tbody tr th {\n",
              "        vertical-align: top;\n",
              "    }\n",
              "\n",
              "    .dataframe thead th {\n",
              "        text-align: right;\n",
              "    }\n",
              "</style>\n",
              "<table border=\"1\" class=\"dataframe\">\n",
              "  <thead>\n",
              "    <tr style=\"text-align: right;\">\n",
              "      <th></th>\n",
              "      <th>precision</th>\n",
              "      <th>recall</th>\n",
              "      <th>f1-score</th>\n",
              "      <th>support</th>\n",
              "      <th>pred</th>\n",
              "      <th>AUC</th>\n",
              "    </tr>\n",
              "  </thead>\n",
              "  <tbody>\n",
              "    <tr>\n",
              "      <th>1</th>\n",
              "      <td>0.707605</td>\n",
              "      <td>0.693259</td>\n",
              "      <td>0.700359</td>\n",
              "      <td>21259.0</td>\n",
              "      <td>20828.0</td>\n",
              "      <td>0.852480</td>\n",
              "    </tr>\n",
              "    <tr>\n",
              "      <th>2</th>\n",
              "      <td>0.739007</td>\n",
              "      <td>0.794905</td>\n",
              "      <td>0.765938</td>\n",
              "      <td>28226.0</td>\n",
              "      <td>30361.0</td>\n",
              "      <td>0.839298</td>\n",
              "    </tr>\n",
              "    <tr>\n",
              "      <th>3</th>\n",
              "      <td>0.620758</td>\n",
              "      <td>0.859591</td>\n",
              "      <td>0.720909</td>\n",
              "      <td>3618.0</td>\n",
              "      <td>5010.0</td>\n",
              "      <td>0.982924</td>\n",
              "    </tr>\n",
              "    <tr>\n",
              "      <th>4</th>\n",
              "      <td>0.666667</td>\n",
              "      <td>0.209386</td>\n",
              "      <td>0.318681</td>\n",
              "      <td>277.0</td>\n",
              "      <td>87.0</td>\n",
              "      <td>0.994350</td>\n",
              "    </tr>\n",
              "    <tr>\n",
              "      <th>5</th>\n",
              "      <td>0.500000</td>\n",
              "      <td>0.004561</td>\n",
              "      <td>0.009040</td>\n",
              "      <td>877.0</td>\n",
              "      <td>8.0</td>\n",
              "      <td>0.901729</td>\n",
              "    </tr>\n",
              "    <tr>\n",
              "      <th>6</th>\n",
              "      <td>0.436578</td>\n",
              "      <td>0.085106</td>\n",
              "      <td>0.142445</td>\n",
              "      <td>1739.0</td>\n",
              "      <td>339.0</td>\n",
              "      <td>0.963782</td>\n",
              "    </tr>\n",
              "    <tr>\n",
              "      <th>7</th>\n",
              "      <td>0.720027</td>\n",
              "      <td>0.502138</td>\n",
              "      <td>0.591660</td>\n",
              "      <td>2105.0</td>\n",
              "      <td>1468.0</td>\n",
              "      <td>0.975906</td>\n",
              "    </tr>\n",
              "    <tr>\n",
              "      <th>avg / total</th>\n",
              "      <td>0.706462</td>\n",
              "      <td>0.715168</td>\n",
              "      <td>0.700606</td>\n",
              "      <td>58101.0</td>\n",
              "      <td>58101.0</td>\n",
              "      <td>0.958353</td>\n",
              "    </tr>\n",
              "  </tbody>\n",
              "</table>\n",
              "</div>"
            ],
            "text/plain": [
              "             precision    recall  f1-score  support     pred       AUC\n",
              "1             0.707605  0.693259  0.700359  21259.0  20828.0  0.852480\n",
              "2             0.739007  0.794905  0.765938  28226.0  30361.0  0.839298\n",
              "3             0.620758  0.859591  0.720909   3618.0   5010.0  0.982924\n",
              "4             0.666667  0.209386  0.318681    277.0     87.0  0.994350\n",
              "5             0.500000  0.004561  0.009040    877.0      8.0  0.901729\n",
              "6             0.436578  0.085106  0.142445   1739.0    339.0  0.963782\n",
              "7             0.720027  0.502138  0.591660   2105.0   1468.0  0.975906\n",
              "avg / total   0.706462  0.715168  0.700606  58101.0  58101.0  0.958353"
            ]
          },
          "execution_count": 18,
          "metadata": {},
          "output_type": "execute_result"
        }
      ]
    },
    {
      "cell_type": "code",
      "metadata": {
        "colab": {
          "base_uri": "https://localhost:8080/",
          "height": 352
        },
        "id": "EvRjBF2LUdVc",
        "outputId": "212c4508-a135-48a4-cad5-6dcde535c0f1"
      },
      "source": [
        "skplt.metrics.plot_roc_curve(covertype_y_test, covertype_pred_SMV_lin2.predict_proba(covertype_X_test))\n",
        "plt.show()"
      ],
      "execution_count": null,
      "outputs": [
        {
          "name": "stderr",
          "output_type": "stream",
          "text": [
            "/usr/local/lib/python3.7/dist-packages/sklearn/utils/deprecation.py:87: FutureWarning: Function plot_roc_curve is deprecated; This will be removed in v0.5.0. Please use scikitplot.metrics.plot_roc instead.\n",
            "  warnings.warn(msg, category=FutureWarning)\n"
          ]
        },
        {
          "data": {
            "image/png": "[encoded data removed]",
            "text/plain": [
              "<Figure size 432x288 with 1 Axes>"
            ]
          },
          "metadata": {},
          "output_type": "display_data"
        }
      ]
    },
    {
      "cell_type": "markdown",
      "metadata": {
        "id": "Si6CV0P_WLkU"
      },
      "source": [
        "### Normalizer Scaler predictions and ROC's"
      ]
    },
    {
      "cell_type": "code",
      "metadata": {
        "colab": {
          "background_save": true
        },
        "id": "x7wLLtLECC_r",
        "outputId": "99d23f0f-cc8b-433d-87c1-2789ebfcd425"
      },
      "source": [
        "#Predict sonar label for linear SVM with normalize scaler\n",
        "covertype_pred_SMV_lin3 = SVM_pipeliner(covertype_X_train, covertype_y_train ,'normalize', sscaler3, 10, 0.001)"
      ],
      "execution_count": null,
      "outputs": [
        {
          "name": "stdout",
          "output_type": "stream",
          "text": [
            "Time duration for normalize SVM 1444.3962380886078s\n"
          ]
        }
      ]
    },
    {
      "cell_type": "code",
      "metadata": {
        "colab": {
          "base_uri": "https://localhost:8080/",
          "height": 300
        },
        "id": "glGyvddPWXH7",
        "outputId": "43e8b545-51e8-4866-9135-fafd9402b251"
      },
      "source": [
        "class_report(covertype_y_test, covertype_pred_SMV_lin3.predict(covertype_X_test), y_score=covertype_pred_SMV_lin3.predict_proba(covertype_X_test))"
      ],
      "execution_count": null,
      "outputs": [
        {
          "data": {
            "text/html": [
              "<div>\n",
              "<style scoped>\n",
              "    .dataframe tbody tr th:only-of-type {\n",
              "        vertical-align: middle;\n",
              "    }\n",
              "\n",
              "    .dataframe tbody tr th {\n",
              "        vertical-align: top;\n",
              "    }\n",
              "\n",
              "    .dataframe thead th {\n",
              "        text-align: right;\n",
              "    }\n",
              "</style>\n",
              "<table border=\"1\" class=\"dataframe\">\n",
              "  <thead>\n",
              "    <tr style=\"text-align: right;\">\n",
              "      <th></th>\n",
              "      <th>precision</th>\n",
              "      <th>recall</th>\n",
              "      <th>f1-score</th>\n",
              "      <th>support</th>\n",
              "      <th>pred</th>\n",
              "      <th>AUC</th>\n",
              "    </tr>\n",
              "  </thead>\n",
              "  <tbody>\n",
              "    <tr>\n",
              "      <th>1</th>\n",
              "      <td>0.707639</td>\n",
              "      <td>0.693259</td>\n",
              "      <td>0.700375</td>\n",
              "      <td>21259.0</td>\n",
              "      <td>20827.0</td>\n",
              "      <td>0.852480</td>\n",
              "    </tr>\n",
              "    <tr>\n",
              "      <th>2</th>\n",
              "      <td>0.739007</td>\n",
              "      <td>0.794905</td>\n",
              "      <td>0.765938</td>\n",
              "      <td>28226.0</td>\n",
              "      <td>30361.0</td>\n",
              "      <td>0.839297</td>\n",
              "    </tr>\n",
              "    <tr>\n",
              "      <th>3</th>\n",
              "      <td>0.620635</td>\n",
              "      <td>0.859591</td>\n",
              "      <td>0.720825</td>\n",
              "      <td>3618.0</td>\n",
              "      <td>5011.0</td>\n",
              "      <td>0.982924</td>\n",
              "    </tr>\n",
              "    <tr>\n",
              "      <th>4</th>\n",
              "      <td>0.666667</td>\n",
              "      <td>0.209386</td>\n",
              "      <td>0.318681</td>\n",
              "      <td>277.0</td>\n",
              "      <td>87.0</td>\n",
              "      <td>0.994351</td>\n",
              "    </tr>\n",
              "    <tr>\n",
              "      <th>5</th>\n",
              "      <td>0.500000</td>\n",
              "      <td>0.004561</td>\n",
              "      <td>0.009040</td>\n",
              "      <td>877.0</td>\n",
              "      <td>8.0</td>\n",
              "      <td>0.901757</td>\n",
              "    </tr>\n",
              "    <tr>\n",
              "      <th>6</th>\n",
              "      <td>0.434911</td>\n",
              "      <td>0.084531</td>\n",
              "      <td>0.141550</td>\n",
              "      <td>1739.0</td>\n",
              "      <td>338.0</td>\n",
              "      <td>0.963782</td>\n",
              "    </tr>\n",
              "    <tr>\n",
              "      <th>7</th>\n",
              "      <td>0.720218</td>\n",
              "      <td>0.502613</td>\n",
              "      <td>0.592054</td>\n",
              "      <td>2105.0</td>\n",
              "      <td>1469.0</td>\n",
              "      <td>0.975908</td>\n",
              "    </tr>\n",
              "    <tr>\n",
              "      <th>avg / total</th>\n",
              "      <td>0.706423</td>\n",
              "      <td>0.715168</td>\n",
              "      <td>0.700594</td>\n",
              "      <td>58101.0</td>\n",
              "      <td>58101.0</td>\n",
              "      <td>0.958353</td>\n",
              "    </tr>\n",
              "  </tbody>\n",
              "</table>\n",
              "</div>"
            ],
            "text/plain": [
              "             precision    recall  f1-score  support     pred       AUC\n",
              "1             0.707639  0.693259  0.700375  21259.0  20827.0  0.852480\n",
              "2             0.739007  0.794905  0.765938  28226.0  30361.0  0.839297\n",
              "3             0.620635  0.859591  0.720825   3618.0   5011.0  0.982924\n",
              "4             0.666667  0.209386  0.318681    277.0     87.0  0.994351\n",
              "5             0.500000  0.004561  0.009040    877.0      8.0  0.901757\n",
              "6             0.434911  0.084531  0.141550   1739.0    338.0  0.963782\n",
              "7             0.720218  0.502613  0.592054   2105.0   1469.0  0.975908\n",
              "avg / total   0.706423  0.715168  0.700594  58101.0  58101.0  0.958353"
            ]
          },
          "execution_count": 43,
          "metadata": {},
          "output_type": "execute_result"
        }
      ]
    },
    {
      "cell_type": "code",
      "metadata": {
        "colab": {
          "base_uri": "https://localhost:8080/",
          "height": 352
        },
        "id": "k6hCNKd7WeoL",
        "outputId": "5ee3dd17-23c8-4527-944c-775f79ac1067"
      },
      "source": [
        "skplt.metrics.plot_roc_curve(covertype_y_test, covertype_pred_SMV_lin3.predict_proba(covertype_X_test))\n",
        "plt.show()"
      ],
      "execution_count": null,
      "outputs": [
        {
          "name": "stderr",
          "output_type": "stream",
          "text": [
            "/usr/local/lib/python3.7/dist-packages/sklearn/utils/deprecation.py:87: FutureWarning: Function plot_roc_curve is deprecated; This will be removed in v0.5.0. Please use scikitplot.metrics.plot_roc instead.\n",
            "  warnings.warn(msg, category=FutureWarning)\n"
          ]
        },
        {
          "data": {
            "image/png": "[encoded data removed]",
            "text/plain": [
              "<Figure size 432x288 with 1 Axes>"
            ]
          },
          "metadata": {},
          "output_type": "display_data"
        }
      ]
    }
  ]
}